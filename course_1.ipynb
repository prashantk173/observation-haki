{
  "nbformat": 4,
  "nbformat_minor": 0,
  "metadata": {
    "colab": {
      "provenance": [],
      "collapsed_sections": []
    },
    "kernelspec": {
      "name": "python3",
      "display_name": "Python 3"
    },
    "language_info": {
      "name": "python"
    }
  },
  "cells": [
    {
      "cell_type": "code",
      "source": [
        "print(\"hi how are you\")"
      ],
      "metadata": {
        "colab": {
          "base_uri": "https://localhost:8080/"
        },
        "id": "1y8B6H94mbsX",
        "outputId": "7c337ecb-6a71-4db6-e511-9fa85b34fa1a"
      },
      "execution_count": null,
      "outputs": [
        {
          "output_type": "stream",
          "name": "stdout",
          "text": [
            "hi how are you\n"
          ]
        }
      ]
    },
    {
      "cell_type": "markdown",
      "source": [
        "basic math functions"
      ],
      "metadata": {
        "id": "8ivn3o6dTTyX"
      }
    },
    {
      "cell_type": "code",
      "source": [
        "def hello(x):\n",
        "  print(x)"
      ],
      "metadata": {
        "id": "kX2iu-3wB2pE"
      },
      "execution_count": null,
      "outputs": []
    },
    {
      "cell_type": "code",
      "source": [
        "hello('this is my first time writing on my own')"
      ],
      "metadata": {
        "colab": {
          "base_uri": "https://localhost:8080/"
        },
        "id": "htMpUox4B2ae",
        "outputId": "b24bf4fb-e655-427a-f077-c307b0d6ad66"
      },
      "execution_count": null,
      "outputs": [
        {
          "output_type": "stream",
          "name": "stdout",
          "text": [
            "this is my first time writing on my own\n"
          ]
        }
      ]
    },
    {
      "cell_type": "code",
      "source": [
        "print(1+1)"
      ],
      "metadata": {
        "id": "QIB3NwHFmkpE",
        "colab": {
          "base_uri": "https://localhost:8080/"
        },
        "outputId": "6dc2bc44-ca63-423b-a521-7813f42a45c2"
      },
      "execution_count": null,
      "outputs": [
        {
          "output_type": "stream",
          "name": "stdout",
          "text": [
            "2\n"
          ]
        }
      ]
    },
    {
      "cell_type": "code",
      "source": [
        "1*5"
      ],
      "metadata": {
        "colab": {
          "base_uri": "https://localhost:8080/"
        },
        "id": "mizkjeeJTHUo",
        "outputId": "d42d062d-9eb8-4002-eec1-329777df3e1b"
      },
      "execution_count": null,
      "outputs": [
        {
          "output_type": "execute_result",
          "data": {
            "text/plain": [
              "5"
            ]
          },
          "metadata": {},
          "execution_count": 279
        }
      ]
    },
    {
      "cell_type": "code",
      "source": [
        "5/6"
      ],
      "metadata": {
        "colab": {
          "base_uri": "https://localhost:8080/"
        },
        "id": "xsDvGpfSTLNU",
        "outputId": "5a388d62-2662-4e8a-aace-aaa13d2c9578"
      },
      "execution_count": null,
      "outputs": [
        {
          "output_type": "execute_result",
          "data": {
            "text/plain": [
              "0.8333333333333334"
            ]
          },
          "metadata": {},
          "execution_count": 280
        }
      ]
    },
    {
      "cell_type": "code",
      "source": [
        "29-76"
      ],
      "metadata": {
        "colab": {
          "base_uri": "https://localhost:8080/"
        },
        "id": "zTFGIIrvTMLS",
        "outputId": "8769e281-a528-404a-bd37-73ce1232835c"
      },
      "execution_count": null,
      "outputs": [
        {
          "output_type": "execute_result",
          "data": {
            "text/plain": [
              "-47"
            ]
          },
          "metadata": {},
          "execution_count": 281
        }
      ]
    },
    {
      "cell_type": "code",
      "source": [
        "x=37"
      ],
      "metadata": {
        "id": "KkH0DGfUTOFM"
      },
      "execution_count": null,
      "outputs": []
    },
    {
      "cell_type": "code",
      "source": [
        "y=56"
      ],
      "metadata": {
        "id": "oiFSFoK-Tbad"
      },
      "execution_count": null,
      "outputs": []
    },
    {
      "cell_type": "code",
      "source": [
        "x"
      ],
      "metadata": {
        "colab": {
          "base_uri": "https://localhost:8080/"
        },
        "id": "W-DjHv7-Td-C",
        "outputId": "9f85582b-9e80-4356-ddf0-b8c9f8d0122b"
      },
      "execution_count": null,
      "outputs": [
        {
          "output_type": "execute_result",
          "data": {
            "text/plain": [
              "37"
            ]
          },
          "metadata": {},
          "execution_count": 284
        }
      ]
    },
    {
      "cell_type": "code",
      "source": [
        "x+y"
      ],
      "metadata": {
        "colab": {
          "base_uri": "https://localhost:8080/"
        },
        "id": "9jVvvtZ1Tj0O",
        "outputId": "0b28d203-b9c2-4fc6-94b2-bf2d5d010bf5"
      },
      "execution_count": null,
      "outputs": [
        {
          "output_type": "execute_result",
          "data": {
            "text/plain": [
              "93"
            ]
          },
          "metadata": {},
          "execution_count": 285
        }
      ]
    },
    {
      "cell_type": "code",
      "source": [
        "3*x+7*y"
      ],
      "metadata": {
        "colab": {
          "base_uri": "https://localhost:8080/"
        },
        "id": "w47rnLczT2-6",
        "outputId": "d5eb07bf-082e-4cd2-a91b-aaba1fadc57c"
      },
      "execution_count": null,
      "outputs": [
        {
          "output_type": "execute_result",
          "data": {
            "text/plain": [
              "503"
            ]
          },
          "metadata": {},
          "execution_count": 286
        }
      ]
    },
    {
      "cell_type": "code",
      "source": [
        "-5 % 5"
      ],
      "metadata": {
        "colab": {
          "base_uri": "https://localhost:8080/"
        },
        "id": "JjS5596KoNii",
        "outputId": "19ec53a6-6017-4629-f71e-8382420658c8"
      },
      "execution_count": null,
      "outputs": [
        {
          "output_type": "execute_result",
          "data": {
            "text/plain": [
              "0"
            ]
          },
          "metadata": {},
          "execution_count": 287
        }
      ]
    },
    {
      "cell_type": "code",
      "source": [
        "10 % 4"
      ],
      "metadata": {
        "colab": {
          "base_uri": "https://localhost:8080/"
        },
        "id": "BGef-4dyopNR",
        "outputId": "bf4a2bd7-7bc0-40e1-d2f0-ccfa987794ed"
      },
      "execution_count": null,
      "outputs": [
        {
          "output_type": "execute_result",
          "data": {
            "text/plain": [
              "2"
            ]
          },
          "metadata": {},
          "execution_count": 288
        }
      ]
    },
    {
      "cell_type": "code",
      "source": [
        "2 ** 9"
      ],
      "metadata": {
        "colab": {
          "base_uri": "https://localhost:8080/"
        },
        "id": "S_VikPhComMO",
        "outputId": "08a4a55c-412c-4dda-ad72-d2e526720d29"
      },
      "execution_count": null,
      "outputs": [
        {
          "output_type": "execute_result",
          "data": {
            "text/plain": [
              "512"
            ]
          },
          "metadata": {},
          "execution_count": 289
        }
      ]
    },
    {
      "cell_type": "markdown",
      "source": [
        "strings"
      ],
      "metadata": {
        "id": "xgjE-XlzQEGV"
      }
    },
    {
      "cell_type": "code",
      "source": [
        "kaizoku='kaizoku oni naru'"
      ],
      "metadata": {
        "id": "t4sulz89T74j"
      },
      "execution_count": null,
      "outputs": []
    },
    {
      "cell_type": "code",
      "source": [
        "'Luffy says {}'.format(kaizoku)"
      ],
      "metadata": {
        "colab": {
          "base_uri": "https://localhost:8080/",
          "height": 35
        },
        "id": "ddQdqNS5sBzc",
        "outputId": "5eca738e-daf0-4642-b187-47cb0f8cd7fe"
      },
      "execution_count": null,
      "outputs": [
        {
          "output_type": "execute_result",
          "data": {
            "text/plain": [
              "'Luffy says kaizoku oni naru'"
            ],
            "application/vnd.google.colaboratory.intrinsic+json": {
              "type": "string"
            }
          },
          "metadata": {},
          "execution_count": 291
        }
      ]
    },
    {
      "cell_type": "markdown",
      "source": [
        "String slicing\n"
      ],
      "metadata": {
        "id": "Y3Vdk3KHQYDZ"
      }
    },
    {
      "cell_type": "code",
      "source": [
        "kaizoku[:3]"
      ],
      "metadata": {
        "colab": {
          "base_uri": "https://localhost:8080/",
          "height": 35
        },
        "id": "sVvUDqofUPWI",
        "outputId": "73fffebd-d76a-4a85-e905-496eb1532300"
      },
      "execution_count": null,
      "outputs": [
        {
          "output_type": "execute_result",
          "data": {
            "text/plain": [
              "'kai'"
            ],
            "application/vnd.google.colaboratory.intrinsic+json": {
              "type": "string"
            }
          },
          "metadata": {},
          "execution_count": 292
        }
      ]
    },
    {
      "cell_type": "code",
      "source": [
        "kaizoku[0:8]"
      ],
      "metadata": {
        "colab": {
          "base_uri": "https://localhost:8080/",
          "height": 35
        },
        "id": "tRLGGRfVUSF8",
        "outputId": "73a77388-1a1f-4359-d25a-2f7799deccde"
      },
      "execution_count": null,
      "outputs": [
        {
          "output_type": "execute_result",
          "data": {
            "text/plain": [
              "'kaizoku '"
            ],
            "application/vnd.google.colaboratory.intrinsic+json": {
              "type": "string"
            }
          },
          "metadata": {},
          "execution_count": 293
        }
      ]
    },
    {
      "cell_type": "code",
      "source": [
        "kaizoku[2:13]"
      ],
      "metadata": {
        "colab": {
          "base_uri": "https://localhost:8080/",
          "height": 35
        },
        "id": "Y6koEqkVUW6J",
        "outputId": "9c93a935-58fe-4315-e0a1-a41b778bd682"
      },
      "execution_count": null,
      "outputs": [
        {
          "output_type": "execute_result",
          "data": {
            "text/plain": [
              "'izoku oni n'"
            ],
            "application/vnd.google.colaboratory.intrinsic+json": {
              "type": "string"
            }
          },
          "metadata": {},
          "execution_count": 294
        }
      ]
    },
    {
      "cell_type": "code",
      "source": [
        "print(kaizoku[0:8])"
      ],
      "metadata": {
        "colab": {
          "base_uri": "https://localhost:8080/"
        },
        "id": "fsxN-e29UcyK",
        "outputId": "9277700f-0233-4f19-9a36-b483f9d7c25b"
      },
      "execution_count": null,
      "outputs": [
        {
          "output_type": "stream",
          "name": "stdout",
          "text": [
            "kaizoku \n"
          ]
        }
      ]
    },
    {
      "cell_type": "markdown",
      "source": [
        "append function"
      ],
      "metadata": {
        "id": "JodFogQ6QJyB"
      }
    },
    {
      "cell_type": "code",
      "source": [
        "kaizoku.append('prasanth')"
      ],
      "metadata": {
        "id": "XgTvxMNDUhu0",
        "colab": {
          "base_uri": "https://localhost:8080/",
          "height": 166
        },
        "outputId": "cb77021c-e53f-4783-a970-c10dfa034911"
      },
      "execution_count": null,
      "outputs": [
        {
          "output_type": "error",
          "ename": "AttributeError",
          "evalue": "ignored",
          "traceback": [
            "\u001b[0;31m---------------------------------------------------------------------------\u001b[0m",
            "\u001b[0;31mAttributeError\u001b[0m                            Traceback (most recent call last)",
            "\u001b[0;32m<ipython-input-296-5aa7c31870b0>\u001b[0m in \u001b[0;36m<module>\u001b[0;34m\u001b[0m\n\u001b[0;32m----> 1\u001b[0;31m \u001b[0mkaizoku\u001b[0m\u001b[0;34m.\u001b[0m\u001b[0mappend\u001b[0m\u001b[0;34m(\u001b[0m\u001b[0;34m'prasanth'\u001b[0m\u001b[0;34m)\u001b[0m\u001b[0;34m\u001b[0m\u001b[0;34m\u001b[0m\u001b[0m\n\u001b[0m",
            "\u001b[0;31mAttributeError\u001b[0m: 'str' object has no attribute 'append'"
          ]
        }
      ]
    },
    {
      "cell_type": "code",
      "source": [
        "# .append function doesnt work on strings it works on Lists."
      ],
      "metadata": {
        "id": "uqWGNS2dr7Y-"
      },
      "execution_count": null,
      "outputs": []
    },
    {
      "cell_type": "code",
      "source": [
        "hello=['a', 'b', 'c', 'd', 'e', 'f']"
      ],
      "metadata": {
        "id": "4LbiTiKdUq07"
      },
      "execution_count": null,
      "outputs": []
    },
    {
      "cell_type": "code",
      "source": [
        "hello.append('g')"
      ],
      "metadata": {
        "id": "GUcp4OpIU_ER"
      },
      "execution_count": null,
      "outputs": []
    },
    {
      "cell_type": "code",
      "source": [
        "hello"
      ],
      "metadata": {
        "colab": {
          "base_uri": "https://localhost:8080/"
        },
        "id": "wxFtc862VLM8",
        "outputId": "f81754bb-f5c9-4c4e-e88f-aaae56879430"
      },
      "execution_count": null,
      "outputs": [
        {
          "output_type": "execute_result",
          "data": {
            "text/plain": [
              "['a', 'b', 'c', 'd', 'e', 'f', 'g']"
            ]
          },
          "metadata": {},
          "execution_count": 301
        }
      ]
    },
    {
      "cell_type": "code",
      "source": [
        "print(hello)"
      ],
      "metadata": {
        "colab": {
          "base_uri": "https://localhost:8080/"
        },
        "id": "KT3YD4S3VNk2",
        "outputId": "f0a760b8-7051-44d6-df68-495685f2bf6e"
      },
      "execution_count": null,
      "outputs": [
        {
          "output_type": "stream",
          "name": "stdout",
          "text": [
            "['a', 'b', 'c', 'd', 'e', 'f', 'g']\n"
          ]
        }
      ]
    },
    {
      "cell_type": "code",
      "source": [
        "print('kaizoku')"
      ],
      "metadata": {
        "colab": {
          "base_uri": "https://localhost:8080/"
        },
        "id": "sgvisJkFVRru",
        "outputId": "a5eb3c9e-4d33-4e5b-a810-4914848ae408"
      },
      "execution_count": null,
      "outputs": [
        {
          "output_type": "stream",
          "name": "stdout",
          "text": [
            "kaizoku\n"
          ]
        }
      ]
    },
    {
      "cell_type": "code",
      "source": [
        "print(kaizoku)"
      ],
      "metadata": {
        "colab": {
          "base_uri": "https://localhost:8080/"
        },
        "id": "hb3Cwj3oVj7x",
        "outputId": "976af9f2-04f0-49c3-e91d-69ae5ff81ae5"
      },
      "execution_count": null,
      "outputs": [
        {
          "output_type": "stream",
          "name": "stdout",
          "text": [
            "kaizoku oni naru\n"
          ]
        }
      ]
    },
    {
      "cell_type": "markdown",
      "source": [
        "lists"
      ],
      "metadata": {
        "id": "uEukLJhzQQGu"
      }
    },
    {
      "cell_type": "code",
      "source": [
        "[1,2,3,4,5]"
      ],
      "metadata": {
        "id": "z3IuZNdBVm76",
        "colab": {
          "base_uri": "https://localhost:8080/"
        },
        "outputId": "91b14010-1bb2-462b-a1a7-18e7176ebbde"
      },
      "execution_count": null,
      "outputs": [
        {
          "output_type": "execute_result",
          "data": {
            "text/plain": [
              "[1, 2, 3, 4, 5]"
            ]
          },
          "metadata": {},
          "execution_count": 305
        }
      ]
    },
    {
      "cell_type": "markdown",
      "source": [
        "nested lists"
      ],
      "metadata": {
        "id": "je6cqiuPQSSs"
      }
    },
    {
      "cell_type": "code",
      "source": [
        "minato = [1,2,3,[5,6]]"
      ],
      "metadata": {
        "id": "lAY2LMIqV1Vi"
      },
      "execution_count": null,
      "outputs": []
    },
    {
      "cell_type": "code",
      "source": [
        "minato[3][1]"
      ],
      "metadata": {
        "id": "QnIfskqrXDxc",
        "colab": {
          "base_uri": "https://localhost:8080/"
        },
        "outputId": "1815fecf-c0db-4531-f054-7760bff9a4c2"
      },
      "execution_count": null,
      "outputs": [
        {
          "output_type": "execute_result",
          "data": {
            "text/plain": [
              "6"
            ]
          },
          "metadata": {},
          "execution_count": 307
        }
      ]
    },
    {
      "cell_type": "markdown",
      "source": [
        "replace terms using lists"
      ],
      "metadata": {
        "id": "6S7eM2K2QdcF"
      }
    },
    {
      "cell_type": "code",
      "source": [
        "minato[0] = 'hello'"
      ],
      "metadata": {
        "id": "4hcgcdB8OySw"
      },
      "execution_count": null,
      "outputs": []
    },
    {
      "cell_type": "code",
      "source": [
        "minato"
      ],
      "metadata": {
        "colab": {
          "base_uri": "https://localhost:8080/"
        },
        "id": "g1ezZmbAO5Gt",
        "outputId": "c8b2b9b1-5add-4f5a-cb31-58b570719f7c"
      },
      "execution_count": null,
      "outputs": [
        {
          "output_type": "execute_result",
          "data": {
            "text/plain": [
              "['hello', 2, 3, [5, 6]]"
            ]
          },
          "metadata": {},
          "execution_count": 309
        }
      ]
    },
    {
      "cell_type": "code",
      "source": [
        "mylist = ['hi', 'my name is', ['minato', ['yellow flash']]]"
      ],
      "metadata": {
        "id": "SHczITalPKKa"
      },
      "execution_count": null,
      "outputs": []
    },
    {
      "cell_type": "code",
      "source": [
        "mylist[2][1]"
      ],
      "metadata": {
        "colab": {
          "base_uri": "https://localhost:8080/"
        },
        "id": "TyQ2zptfPg5r",
        "outputId": "7d426113-0de4-4248-b516-5fdba9ed28ef"
      },
      "execution_count": null,
      "outputs": [
        {
          "output_type": "execute_result",
          "data": {
            "text/plain": [
              "['yellow flash']"
            ]
          },
          "metadata": {},
          "execution_count": 113
        }
      ]
    },
    {
      "cell_type": "code",
      "source": [
        "print(mylist)"
      ],
      "metadata": {
        "colab": {
          "base_uri": "https://localhost:8080/"
        },
        "id": "8BmdioO0Po7c",
        "outputId": "0c5ee135-a50f-478a-e1df-4d58f5cdcd2c"
      },
      "execution_count": null,
      "outputs": [
        {
          "output_type": "stream",
          "name": "stdout",
          "text": [
            "['hi', 'my name is', ['minato', ['yellow flash']]]\n"
          ]
        }
      ]
    },
    {
      "cell_type": "code",
      "source": [
        "print(mylist[2][1])"
      ],
      "metadata": {
        "colab": {
          "base_uri": "https://localhost:8080/"
        },
        "id": "YAzcZV_GPsRX",
        "outputId": "fa2bb368-cffe-46fe-8984-93619ddd098c"
      },
      "execution_count": null,
      "outputs": [
        {
          "output_type": "stream",
          "name": "stdout",
          "text": [
            "['yellow flash']\n"
          ]
        }
      ]
    },
    {
      "cell_type": "code",
      "source": [
        "# comments (the comments are written by using a # symbol in the front which will not run the line)"
      ],
      "metadata": {
        "id": "oXzzGKK6PxJn"
      },
      "execution_count": null,
      "outputs": []
    },
    {
      "cell_type": "markdown",
      "source": [
        "creating dictionaries"
      ],
      "metadata": {
        "id": "h__I_bcftw7G"
      }
    },
    {
      "cell_type": "code",
      "source": [
        "d = {'k1':'hello world', 'k2': [1,2,3,4,5]}"
      ],
      "metadata": {
        "id": "loQxydMcQ2q_"
      },
      "execution_count": null,
      "outputs": []
    },
    {
      "cell_type": "code",
      "source": [
        "d"
      ],
      "metadata": {
        "colab": {
          "base_uri": "https://localhost:8080/"
        },
        "id": "GR_C7k9CuBVN",
        "outputId": "622c327d-27ef-4218-8b8f-29f35129a5e9"
      },
      "execution_count": null,
      "outputs": [
        {
          "output_type": "execute_result",
          "data": {
            "text/plain": [
              "{'k1': 'hello world', 'k2': [1, 2, 3, 4, 5]}"
            ]
          },
          "metadata": {},
          "execution_count": 316
        }
      ]
    },
    {
      "cell_type": "code",
      "source": [
        "d['k2']"
      ],
      "metadata": {
        "colab": {
          "base_uri": "https://localhost:8080/"
        },
        "id": "MLbc5u38uCJb",
        "outputId": "84e08482-6596-41c1-ef9d-46a00fc0dd6f"
      },
      "execution_count": null,
      "outputs": [
        {
          "output_type": "execute_result",
          "data": {
            "text/plain": [
              "[1, 2, 3, 4, 5]"
            ]
          },
          "metadata": {},
          "execution_count": 317
        }
      ]
    },
    {
      "cell_type": "code",
      "source": [
        "d['k2'][3]"
      ],
      "metadata": {
        "colab": {
          "base_uri": "https://localhost:8080/"
        },
        "id": "Rs2qFV_FuEN4",
        "outputId": "7fe15975-595f-4faa-8a19-3c4407fd4b3c"
      },
      "execution_count": null,
      "outputs": [
        {
          "output_type": "execute_result",
          "data": {
            "text/plain": [
              "4"
            ]
          },
          "metadata": {},
          "execution_count": 318
        }
      ]
    },
    {
      "cell_type": "markdown",
      "source": [
        "keeping dictionary inside dictionary"
      ],
      "metadata": {
        "id": "rOgokVaMuios"
      }
    },
    {
      "cell_type": "code",
      "source": [
        "d = {'k1': {'ik': [9,8,7,6]}}"
      ],
      "metadata": {
        "id": "rPb-J41WuLsK"
      },
      "execution_count": null,
      "outputs": []
    },
    {
      "cell_type": "code",
      "source": [
        "d"
      ],
      "metadata": {
        "colab": {
          "base_uri": "https://localhost:8080/"
        },
        "id": "2AILqQ2UuYwV",
        "outputId": "74b33c9b-cf93-4b18-9634-2579be81361c"
      },
      "execution_count": null,
      "outputs": [
        {
          "output_type": "execute_result",
          "data": {
            "text/plain": [
              "{'k1': {'ik': [9, 8, 7, 6]}}"
            ]
          },
          "metadata": {},
          "execution_count": 320
        }
      ]
    },
    {
      "cell_type": "code",
      "source": [
        "d['k1']['ik'][3]"
      ],
      "metadata": {
        "colab": {
          "base_uri": "https://localhost:8080/"
        },
        "id": "B_UDgN73uZc4",
        "outputId": "32cd96f2-be6e-4c31-b8ce-2de0be1f0d01"
      },
      "execution_count": null,
      "outputs": [
        {
          "output_type": "execute_result",
          "data": {
            "text/plain": [
              "6"
            ]
          },
          "metadata": {},
          "execution_count": 321
        }
      ]
    },
    {
      "cell_type": "markdown",
      "source": [
        "booleans"
      ],
      "metadata": {
        "id": "B3PZsO5-uqnL"
      }
    },
    {
      "cell_type": "code",
      "source": [
        "True"
      ],
      "metadata": {
        "colab": {
          "base_uri": "https://localhost:8080/"
        },
        "id": "Q7jS6FSVufDi",
        "outputId": "d9d7d7e2-d527-459b-ac11-ed947427f2de"
      },
      "execution_count": null,
      "outputs": [
        {
          "output_type": "execute_result",
          "data": {
            "text/plain": [
              "True"
            ]
          },
          "metadata": {},
          "execution_count": 322
        }
      ]
    },
    {
      "cell_type": "code",
      "source": [
        "False"
      ],
      "metadata": {
        "colab": {
          "base_uri": "https://localhost:8080/"
        },
        "id": "HLf4Alvrz6B5",
        "outputId": "4ac55a62-08e2-4a70-9fb1-3c7c52fcff01"
      },
      "execution_count": null,
      "outputs": [
        {
          "output_type": "execute_result",
          "data": {
            "text/plain": [
              "False"
            ]
          },
          "metadata": {},
          "execution_count": 323
        }
      ]
    },
    {
      "cell_type": "markdown",
      "source": [
        "tuples"
      ],
      "metadata": {
        "id": "TDNWUrZIz8G5"
      }
    },
    {
      "cell_type": "code",
      "source": [
        "tuples = (1,2,3,4)"
      ],
      "metadata": {
        "id": "WwGl3R5wz7PX"
      },
      "execution_count": null,
      "outputs": []
    },
    {
      "cell_type": "code",
      "source": [
        "tuples"
      ],
      "metadata": {
        "colab": {
          "base_uri": "https://localhost:8080/"
        },
        "id": "V7AXG89w0DJr",
        "outputId": "d28f6f15-b6b9-4b66-f03f-23448b79ce35"
      },
      "execution_count": null,
      "outputs": [
        {
          "output_type": "execute_result",
          "data": {
            "text/plain": [
              "(1, 2, 3, 4)"
            ]
          },
          "metadata": {},
          "execution_count": 325
        }
      ]
    },
    {
      "cell_type": "code",
      "source": [
        "tuples[0:2]"
      ],
      "metadata": {
        "colab": {
          "base_uri": "https://localhost:8080/"
        },
        "id": "obquQgI80ESl",
        "outputId": "619a4ac1-7bdf-486b-c9fc-089dbc3f4114"
      },
      "execution_count": null,
      "outputs": [
        {
          "output_type": "execute_result",
          "data": {
            "text/plain": [
              "(1, 2)"
            ]
          },
          "metadata": {},
          "execution_count": 326
        }
      ]
    },
    {
      "cell_type": "code",
      "source": [
        "# tuples are represented with () and they cant be modified or change the values as it can be done in Lists."
      ],
      "metadata": {
        "id": "K5NXUx2vso-B"
      },
      "execution_count": null,
      "outputs": []
    },
    {
      "cell_type": "markdown",
      "source": [
        "sets"
      ],
      "metadata": {
        "id": "XcLb1Hl10em3"
      }
    },
    {
      "cell_type": "code",
      "source": [
        "{1,2,3}"
      ],
      "metadata": {
        "colab": {
          "base_uri": "https://localhost:8080/"
        },
        "id": "opVvQeMN0MeB",
        "outputId": "0f1214ca-7fbb-44be-831a-761137fbf34d"
      },
      "execution_count": null,
      "outputs": [
        {
          "output_type": "execute_result",
          "data": {
            "text/plain": [
              "{1, 2, 3}"
            ]
          },
          "metadata": {},
          "execution_count": 328
        }
      ]
    },
    {
      "cell_type": "code",
      "source": [
        "{1,1,1,2,2,2,4,4,4,6,6,6}"
      ],
      "metadata": {
        "colab": {
          "base_uri": "https://localhost:8080/"
        },
        "id": "m8BsNHkq0UzW",
        "outputId": "cba9f22a-ce99-48f3-dd5f-329aae3ecb84"
      },
      "execution_count": null,
      "outputs": [
        {
          "output_type": "execute_result",
          "data": {
            "text/plain": [
              "{1, 2, 4, 6}"
            ]
          },
          "metadata": {},
          "execution_count": 329
        }
      ]
    },
    {
      "cell_type": "code",
      "source": [
        "set={1,1,1,3,3,3,4,4,5}"
      ],
      "metadata": {
        "id": "vNcRja711hP7"
      },
      "execution_count": null,
      "outputs": []
    },
    {
      "cell_type": "code",
      "source": [
        "set"
      ],
      "metadata": {
        "colab": {
          "base_uri": "https://localhost:8080/"
        },
        "id": "vMqkj32tA2dO",
        "outputId": "f2dea2e3-1e31-4d14-9adf-19f35f7edb75"
      },
      "execution_count": null,
      "outputs": [
        {
          "output_type": "execute_result",
          "data": {
            "text/plain": [
              "{1, 3, 4, 5}"
            ]
          },
          "metadata": {},
          "execution_count": 331
        }
      ]
    },
    {
      "cell_type": "markdown",
      "source": [
        "adding elements to sets"
      ],
      "metadata": {
        "id": "PSIebRhh2ejk"
      }
    },
    {
      "cell_type": "code",
      "source": [
        "set = {1,2,3}"
      ],
      "metadata": {
        "id": "27CSGN991nHY"
      },
      "execution_count": null,
      "outputs": []
    },
    {
      "cell_type": "code",
      "source": [
        "set.add(5)"
      ],
      "metadata": {
        "id": "hn9PXyWM2OUs"
      },
      "execution_count": null,
      "outputs": []
    },
    {
      "cell_type": "code",
      "source": [
        "set"
      ],
      "metadata": {
        "colab": {
          "base_uri": "https://localhost:8080/"
        },
        "id": "xahdYvWv2RO7",
        "outputId": "b4a9b449-8af5-4627-be93-71b772fcf49c"
      },
      "execution_count": null,
      "outputs": [
        {
          "output_type": "execute_result",
          "data": {
            "text/plain": [
              "{1, 2, 3, 5}"
            ]
          },
          "metadata": {},
          "execution_count": 334
        }
      ]
    },
    {
      "cell_type": "code",
      "source": [
        "# in a set the repeated elcements are ommitted and only one value is returned."
      ],
      "metadata": {
        "id": "jLS0L966s5ef"
      },
      "execution_count": null,
      "outputs": []
    },
    {
      "cell_type": "markdown",
      "source": [
        "comparison operators"
      ],
      "metadata": {
        "id": "59-_FD2V2hQX"
      }
    },
    {
      "cell_type": "code",
      "source": [
        "1>2"
      ],
      "metadata": {
        "colab": {
          "base_uri": "https://localhost:8080/"
        },
        "id": "7zSheLQW2WZn",
        "outputId": "adff33c5-9cf1-4a50-f217-40ff230714e4"
      },
      "execution_count": null,
      "outputs": [
        {
          "output_type": "execute_result",
          "data": {
            "text/plain": [
              "False"
            ]
          },
          "metadata": {},
          "execution_count": 336
        }
      ]
    },
    {
      "cell_type": "code",
      "source": [
        "1<3"
      ],
      "metadata": {
        "colab": {
          "base_uri": "https://localhost:8080/"
        },
        "id": "P986Swti24md",
        "outputId": "35f02cb1-f93e-410a-b114-0e192bf5b0a2"
      },
      "execution_count": null,
      "outputs": [
        {
          "output_type": "execute_result",
          "data": {
            "text/plain": [
              "True"
            ]
          },
          "metadata": {},
          "execution_count": 337
        }
      ]
    },
    {
      "cell_type": "code",
      "source": [
        "1<=2"
      ],
      "metadata": {
        "colab": {
          "base_uri": "https://localhost:8080/"
        },
        "id": "pMSywCEk25sk",
        "outputId": "67055c62-4c20-40e0-ba20-da9628f90740"
      },
      "execution_count": null,
      "outputs": [
        {
          "output_type": "execute_result",
          "data": {
            "text/plain": [
              "True"
            ]
          },
          "metadata": {},
          "execution_count": 338
        }
      ]
    },
    {
      "cell_type": "code",
      "source": [
        "1<=1"
      ],
      "metadata": {
        "colab": {
          "base_uri": "https://localhost:8080/"
        },
        "id": "cAfLiFXP3AtG",
        "outputId": "b7624f64-50ef-4238-892f-54112bca86c1"
      },
      "execution_count": null,
      "outputs": [
        {
          "output_type": "execute_result",
          "data": {
            "text/plain": [
              "True"
            ]
          },
          "metadata": {},
          "execution_count": 339
        }
      ]
    },
    {
      "cell_type": "code",
      "source": [
        "1 == 1"
      ],
      "metadata": {
        "colab": {
          "base_uri": "https://localhost:8080/"
        },
        "id": "8ncElyoK3CSo",
        "outputId": "ebc280ed-50f9-4e88-dc48-953382f65802"
      },
      "execution_count": null,
      "outputs": [
        {
          "output_type": "execute_result",
          "data": {
            "text/plain": [
              "True"
            ]
          },
          "metadata": {},
          "execution_count": 340
        }
      ]
    },
    {
      "cell_type": "code",
      "source": [
        "# == this sign means equals to and only one = sign is used to attribute values to the variable or string."
      ],
      "metadata": {
        "id": "ygiZ0L_5tEpL"
      },
      "execution_count": null,
      "outputs": []
    },
    {
      "cell_type": "code",
      "source": [
        "1 == 2"
      ],
      "metadata": {
        "colab": {
          "base_uri": "https://localhost:8080/"
        },
        "id": "nuQR5kgr3UOv",
        "outputId": "8ffad22d-40ef-4ad0-a2fd-bbe3deb48603"
      },
      "execution_count": null,
      "outputs": [
        {
          "output_type": "execute_result",
          "data": {
            "text/plain": [
              "False"
            ]
          },
          "metadata": {},
          "execution_count": 342
        }
      ]
    },
    {
      "cell_type": "code",
      "source": [
        "1 = 1"
      ],
      "metadata": {
        "colab": {
          "base_uri": "https://localhost:8080/",
          "height": 131
        },
        "id": "E0JRerNd3WJp",
        "outputId": "891fe249-1df4-4870-d738-b7030e616f46"
      },
      "execution_count": null,
      "outputs": [
        {
          "output_type": "error",
          "ename": "SyntaxError",
          "evalue": "ignored",
          "traceback": [
            "\u001b[0;36m  File \u001b[0;32m\"<ipython-input-343-ecdac3dcabfd>\"\u001b[0;36m, line \u001b[0;32m1\u001b[0m\n\u001b[0;31m    1 = 1\u001b[0m\n\u001b[0m         ^\u001b[0m\n\u001b[0;31mSyntaxError\u001b[0m\u001b[0;31m:\u001b[0m can't assign to literal\n"
          ]
        }
      ]
    },
    {
      "cell_type": "code",
      "source": [
        "# single equal to sign will think that assigning a variable therefore show an error. and that cant be done using numbers."
      ],
      "metadata": {
        "id": "s01fvwF-3XFK"
      },
      "execution_count": null,
      "outputs": []
    },
    {
      "cell_type": "code",
      "source": [
        "1 != 3"
      ],
      "metadata": {
        "colab": {
          "base_uri": "https://localhost:8080/"
        },
        "id": "6STYs9b76nCC",
        "outputId": "549c4eb8-dcc5-4e39-ee0a-d8213fbe3e90"
      },
      "execution_count": null,
      "outputs": [
        {
          "output_type": "execute_result",
          "data": {
            "text/plain": [
              "True"
            ]
          },
          "metadata": {},
          "execution_count": 346
        }
      ]
    },
    {
      "cell_type": "code",
      "source": [
        "1 != 1"
      ],
      "metadata": {
        "colab": {
          "base_uri": "https://localhost:8080/"
        },
        "id": "DtuW0R_w6rPX",
        "outputId": "904f5871-b250-4330-894c-97d421243354"
      },
      "execution_count": null,
      "outputs": [
        {
          "output_type": "execute_result",
          "data": {
            "text/plain": [
              "False"
            ]
          },
          "metadata": {},
          "execution_count": 347
        }
      ]
    },
    {
      "cell_type": "code",
      "source": [
        "# '!=' this symbol is used for not equal to."
      ],
      "metadata": {
        "id": "3t1hAgxKtcQR"
      },
      "execution_count": null,
      "outputs": []
    },
    {
      "cell_type": "code",
      "source": [
        "# this comparison can also be done for strings"
      ],
      "metadata": {
        "id": "eQAatsMI6ttd"
      },
      "execution_count": null,
      "outputs": []
    },
    {
      "cell_type": "code",
      "source": [
        "'hi' == 'hi'"
      ],
      "metadata": {
        "colab": {
          "base_uri": "https://localhost:8080/"
        },
        "id": "JhrCxR2n6493",
        "outputId": "72127f65-f286-4419-9c80-58413a84dc35"
      },
      "execution_count": null,
      "outputs": [
        {
          "output_type": "execute_result",
          "data": {
            "text/plain": [
              "True"
            ]
          },
          "metadata": {},
          "execution_count": 350
        }
      ]
    },
    {
      "cell_type": "code",
      "source": [
        "'hi' != 'bye'"
      ],
      "metadata": {
        "colab": {
          "base_uri": "https://localhost:8080/"
        },
        "id": "tZKiChOl68wK",
        "outputId": "7120435a-aefa-45df-d036-eca2cd5a9ae9"
      },
      "execution_count": null,
      "outputs": [
        {
          "output_type": "execute_result",
          "data": {
            "text/plain": [
              "True"
            ]
          },
          "metadata": {},
          "execution_count": 351
        }
      ]
    },
    {
      "cell_type": "markdown",
      "source": [
        "Logic operators - and and OR"
      ],
      "metadata": {
        "id": "j8KP92SO8hxt"
      }
    },
    {
      "cell_type": "code",
      "source": [
        "(1<2) and (2<3)"
      ],
      "metadata": {
        "colab": {
          "base_uri": "https://localhost:8080/"
        },
        "id": "_nEJgX_z7IFj",
        "outputId": "d3251c82-7cd8-47d8-881a-d7c3d91df75f"
      },
      "execution_count": null,
      "outputs": [
        {
          "output_type": "execute_result",
          "data": {
            "text/plain": [
              "True"
            ]
          },
          "metadata": {},
          "execution_count": 352
        }
      ]
    },
    {
      "cell_type": "code",
      "source": [
        "(1>0.5) and (2>5)"
      ],
      "metadata": {
        "colab": {
          "base_uri": "https://localhost:8080/"
        },
        "id": "bxSjOwvK8qif",
        "outputId": "6d66752e-b2de-455c-fe33-13b12f84ceb8"
      },
      "execution_count": null,
      "outputs": [
        {
          "output_type": "execute_result",
          "data": {
            "text/plain": [
              "False"
            ]
          },
          "metadata": {},
          "execution_count": 353
        }
      ]
    },
    {
      "cell_type": "code",
      "source": [
        "(2<4) or (3>8)"
      ],
      "metadata": {
        "colab": {
          "base_uri": "https://localhost:8080/"
        },
        "id": "rqIG0LR58vkw",
        "outputId": "9591c95e-db87-478c-c541-2e898ffd772d"
      },
      "execution_count": null,
      "outputs": [
        {
          "output_type": "execute_result",
          "data": {
            "text/plain": [
              "True"
            ]
          },
          "metadata": {},
          "execution_count": 354
        }
      ]
    },
    {
      "cell_type": "code",
      "source": [
        "(2<4) or (3<2) or (4==4)"
      ],
      "metadata": {
        "colab": {
          "base_uri": "https://localhost:8080/"
        },
        "id": "HsyHLmLN83xK",
        "outputId": "9abd941a-e91f-43da-f503-9deef09e7aad"
      },
      "execution_count": null,
      "outputs": [
        {
          "output_type": "execute_result",
          "data": {
            "text/plain": [
              "True"
            ]
          },
          "metadata": {},
          "execution_count": 355
        }
      ]
    },
    {
      "cell_type": "code",
      "source": [
        "True and True"
      ],
      "metadata": {
        "colab": {
          "base_uri": "https://localhost:8080/"
        },
        "id": "_0C1p-i39C4E",
        "outputId": "8f9b14b0-6502-4141-b0b6-91564b171cf5"
      },
      "execution_count": null,
      "outputs": [
        {
          "output_type": "execute_result",
          "data": {
            "text/plain": [
              "True"
            ]
          },
          "metadata": {},
          "execution_count": 356
        }
      ]
    },
    {
      "cell_type": "code",
      "source": [
        "True and False "
      ],
      "metadata": {
        "colab": {
          "base_uri": "https://localhost:8080/"
        },
        "id": "yKYkweve9VMu",
        "outputId": "a1b5f8b5-454a-4913-eab5-a14357da5401"
      },
      "execution_count": null,
      "outputs": [
        {
          "output_type": "execute_result",
          "data": {
            "text/plain": [
              "False"
            ]
          },
          "metadata": {},
          "execution_count": 357
        }
      ]
    },
    {
      "cell_type": "code",
      "source": [
        "True or False"
      ],
      "metadata": {
        "colab": {
          "base_uri": "https://localhost:8080/"
        },
        "id": "SrmxetYS9fzm",
        "outputId": "bafdc193-90b3-4729-8951-ddc4001b696d"
      },
      "execution_count": null,
      "outputs": [
        {
          "output_type": "execute_result",
          "data": {
            "text/plain": [
              "True"
            ]
          },
          "metadata": {},
          "execution_count": 358
        }
      ]
    },
    {
      "cell_type": "markdown",
      "source": [
        "if, elif and else statements"
      ],
      "metadata": {
        "id": "EY9hw8Ya9Mgd"
      }
    },
    {
      "cell_type": "code",
      "source": [
        "if 2 == 3: \n",
        "  print ('yahoo')\n",
        "elif 3 == 4:\n",
        "  print ('its just three')\n",
        "else: \n",
        "  print ('coding is fun')"
      ],
      "metadata": {
        "colab": {
          "base_uri": "https://localhost:8080/"
        },
        "id": "5Ej6YhJA9jqM",
        "outputId": "94d24592-1ac2-43e1-ce98-2dcc5a06a2e9"
      },
      "execution_count": null,
      "outputs": [
        {
          "output_type": "stream",
          "name": "stdout",
          "text": [
            "coding is fun\n"
          ]
        }
      ]
    },
    {
      "cell_type": "code",
      "source": [
        "if 2 == 3: \n",
        "  print ('yahoo')\n",
        "elif 3 == 4:\n",
        "  print ('its just three')\n",
        "elif 5 == 5:\n",
        "  print('five is needed')\n",
        "else: \n",
        "  print ('coding is fun')"
      ],
      "metadata": {
        "colab": {
          "base_uri": "https://localhost:8080/"
        },
        "id": "YWE0WzLS-5Op",
        "outputId": "22619de3-a9b2-4b6f-826c-251b467d41f7"
      },
      "execution_count": null,
      "outputs": [
        {
          "output_type": "stream",
          "name": "stdout",
          "text": [
            "five is needed\n"
          ]
        }
      ]
    },
    {
      "cell_type": "code",
      "source": [
        "# the first correct statement is only stated and comes as output."
      ],
      "metadata": {
        "id": "uBQoQnfB-3g-"
      },
      "execution_count": null,
      "outputs": []
    },
    {
      "cell_type": "markdown",
      "source": [
        "For Loop and While Loop"
      ],
      "metadata": {
        "id": "oHUeI1pJCOSV"
      }
    },
    {
      "cell_type": "code",
      "source": [
        "seq = [1,2,3,4]"
      ],
      "metadata": {
        "id": "aq-hOu7z_7eQ"
      },
      "execution_count": null,
      "outputs": []
    },
    {
      "cell_type": "code",
      "source": [
        "for num in seq:\n",
        "  print(num)"
      ],
      "metadata": {
        "colab": {
          "base_uri": "https://localhost:8080/"
        },
        "id": "Hqet0ggoCUQx",
        "outputId": "e66d61bb-b4d8-48a1-be99-3a8da02d0165"
      },
      "execution_count": null,
      "outputs": [
        {
          "output_type": "stream",
          "name": "stdout",
          "text": [
            "1\n",
            "2\n",
            "3\n",
            "4\n"
          ]
        }
      ]
    },
    {
      "cell_type": "code",
      "source": [
        "for num in seq:\n",
        "  print('one,two,three,four')"
      ],
      "metadata": {
        "colab": {
          "base_uri": "https://localhost:8080/"
        },
        "id": "tuOg7BSFCcn1",
        "outputId": "71fbb9ea-5efb-4567-985e-4c30beb5f7ef"
      },
      "execution_count": null,
      "outputs": [
        {
          "output_type": "stream",
          "name": "stdout",
          "text": [
            "one,two,three,four\n",
            "one,two,three,four\n",
            "one,two,three,four\n",
            "one,two,three,four\n"
          ]
        }
      ]
    },
    {
      "cell_type": "code",
      "source": [
        "# for every item in the sequence the for fuction is attributed."
      ],
      "metadata": {
        "id": "CoRKiebHC9LO"
      },
      "execution_count": null,
      "outputs": []
    },
    {
      "cell_type": "code",
      "source": [
        "i = 1\n",
        "while i < 5:\n",
        "  print('i is: {}'.format(i))\n",
        "  i = i+1"
      ],
      "metadata": {
        "colab": {
          "base_uri": "https://localhost:8080/"
        },
        "id": "vyg2xaQiD5xz",
        "outputId": "a7e4f1d3-7698-4faf-9d98-6f5afa03fb91"
      },
      "execution_count": null,
      "outputs": [
        {
          "output_type": "stream",
          "name": "stdout",
          "text": [
            "i is: 1\n",
            "i is: 2\n",
            "i is: 3\n",
            "i is: 4\n"
          ]
        }
      ]
    },
    {
      "cell_type": "markdown",
      "source": [
        "Range Function"
      ],
      "metadata": {
        "id": "y5UXlFpuFNp6"
      }
    },
    {
      "cell_type": "code",
      "source": [
        "range(0,10)"
      ],
      "metadata": {
        "colab": {
          "base_uri": "https://localhost:8080/"
        },
        "id": "17OfOtqdI2y4",
        "outputId": "92d1b827-106a-4bb6-96a7-126aa4df91bc"
      },
      "execution_count": null,
      "outputs": [
        {
          "output_type": "execute_result",
          "data": {
            "text/plain": [
              "range(0, 10)"
            ]
          },
          "metadata": {},
          "execution_count": 125
        }
      ]
    },
    {
      "cell_type": "code",
      "source": [
        "for x in range(0,10):\n",
        "  print(x)"
      ],
      "metadata": {
        "colab": {
          "base_uri": "https://localhost:8080/"
        },
        "id": "2hzV6rffI6K0",
        "outputId": "f22a0555-00e3-440b-d403-b6dbe59af06c"
      },
      "execution_count": null,
      "outputs": [
        {
          "output_type": "stream",
          "name": "stdout",
          "text": [
            "0\n",
            "1\n",
            "2\n",
            "3\n",
            "4\n",
            "5\n",
            "6\n",
            "7\n",
            "8\n",
            "9\n"
          ]
        }
      ]
    },
    {
      "cell_type": "code",
      "source": [
        "for x in range(0,10):\n",
        "  print((x**2))"
      ],
      "metadata": {
        "colab": {
          "base_uri": "https://localhost:8080/"
        },
        "id": "Rq0UTXNOJBen",
        "outputId": "0f80516b-093f-44a4-9bf3-ede26e531fa8"
      },
      "execution_count": null,
      "outputs": [
        {
          "output_type": "stream",
          "name": "stdout",
          "text": [
            "0\n",
            "1\n",
            "4\n",
            "9\n",
            "16\n",
            "25\n",
            "36\n",
            "49\n",
            "64\n",
            "81\n"
          ]
        }
      ]
    },
    {
      "cell_type": "markdown",
      "source": [
        "List Compreshensin is opposite of the above function in for loop"
      ],
      "metadata": {
        "id": "pXuOIAfX61LK"
      }
    },
    {
      "cell_type": "code",
      "source": [
        "# simple way to write a code for list comprehension in one line"
      ],
      "metadata": {
        "id": "-QavgnMN7IJq"
      },
      "execution_count": null,
      "outputs": []
    },
    {
      "cell_type": "markdown",
      "source": [
        "Functions defined with def"
      ],
      "metadata": {
        "id": "fiIooP6O8OIL"
      }
    },
    {
      "cell_type": "code",
      "source": [
        "def my_funk(para):\n",
        "  print(para)"
      ],
      "metadata": {
        "id": "ZTWp-Q4d8RLe"
      },
      "execution_count": null,
      "outputs": []
    },
    {
      "cell_type": "code",
      "source": [
        "my_funk('hello world')"
      ],
      "metadata": {
        "colab": {
          "base_uri": "https://localhost:8080/"
        },
        "id": "ajmRK-768eDR",
        "outputId": "34efe04a-0e52-47c2-9ffb-69b3a308a21b"
      },
      "execution_count": null,
      "outputs": [
        {
          "output_type": "stream",
          "name": "stdout",
          "text": [
            "hello world\n"
          ]
        }
      ]
    },
    {
      "cell_type": "code",
      "source": [
        "def my_other_funk(name):\n",
        "  print('how are you'+name)"
      ],
      "metadata": {
        "id": "S-RJt3tD8pAA"
      },
      "execution_count": null,
      "outputs": []
    },
    {
      "cell_type": "code",
      "source": [
        "my_other_funk(name=' Kaizoku')"
      ],
      "metadata": {
        "colab": {
          "base_uri": "https://localhost:8080/"
        },
        "id": "GfgICtll9bBV",
        "outputId": "9ead4203-c344-4169-f256-c95dc68f5833"
      },
      "execution_count": null,
      "outputs": [
        {
          "output_type": "stream",
          "name": "stdout",
          "text": [
            "how are you Kaizoku\n"
          ]
        }
      ]
    },
    {
      "cell_type": "code",
      "source": [
        "# to keep default values"
      ],
      "metadata": {
        "id": "0udVRLW4-LOv"
      },
      "execution_count": null,
      "outputs": []
    },
    {
      "cell_type": "code",
      "source": [
        "def one_more_funk(name = ' kaizoku'):\n",
        "  print('hello, how are you'+name)"
      ],
      "metadata": {
        "id": "mSsdUo1C-thr"
      },
      "execution_count": null,
      "outputs": []
    },
    {
      "cell_type": "code",
      "source": [
        "one_more_funk()"
      ],
      "metadata": {
        "colab": {
          "base_uri": "https://localhost:8080/"
        },
        "id": "tea65mX4_Cra",
        "outputId": "6c638429-1f25-4666-9a56-b894b60cb112"
      },
      "execution_count": null,
      "outputs": [
        {
          "output_type": "stream",
          "name": "stdout",
          "text": [
            "hello, how are you kaizoku\n"
          ]
        }
      ]
    },
    {
      "cell_type": "code",
      "source": [
        "# default value can be changed by writing the desired name"
      ],
      "metadata": {
        "id": "2aQ0K4Oy_H9G"
      },
      "execution_count": null,
      "outputs": []
    },
    {
      "cell_type": "code",
      "source": [
        "def one_more_funk(name = 'kaizoku'):\n",
        "  print('Hello '+name)\n"
      ],
      "metadata": {
        "id": "YkPCpLV0_XeW"
      },
      "execution_count": null,
      "outputs": []
    },
    {
      "cell_type": "code",
      "source": [
        "one_more_funk('Mianto')"
      ],
      "metadata": {
        "colab": {
          "base_uri": "https://localhost:8080/"
        },
        "id": "LIyTRQgJ_qlW",
        "outputId": "af5234a2-9270-4d09-ea3e-1383e9a63f14"
      },
      "execution_count": null,
      "outputs": [
        {
          "output_type": "stream",
          "name": "stdout",
          "text": [
            "Hello Mianto\n"
          ]
        }
      ]
    },
    {
      "cell_type": "code",
      "source": [
        "# return function in the definition"
      ],
      "metadata": {
        "id": "IQvndTUd_wJE"
      },
      "execution_count": null,
      "outputs": []
    },
    {
      "cell_type": "code",
      "source": [
        "def square(num):\n",
        "  return num**2"
      ],
      "metadata": {
        "id": "GPbaQrREAXJR"
      },
      "execution_count": null,
      "outputs": []
    },
    {
      "cell_type": "code",
      "source": [
        "square(100)"
      ],
      "metadata": {
        "id": "kqpy90GtAjZL",
        "colab": {
          "base_uri": "https://localhost:8080/"
        },
        "outputId": "6fa77259-2e6b-4a41-e2eb-840a238e9130"
      },
      "execution_count": null,
      "outputs": [
        {
          "output_type": "execute_result",
          "data": {
            "text/plain": [
              "10000"
            ]
          },
          "metadata": {},
          "execution_count": 15
        }
      ]
    },
    {
      "cell_type": "code",
      "source": [
        "output = [square(1000)]"
      ],
      "metadata": {
        "id": "2lI4glHBAqYr"
      },
      "execution_count": null,
      "outputs": []
    },
    {
      "cell_type": "code",
      "source": [
        "output"
      ],
      "metadata": {
        "colab": {
          "base_uri": "https://localhost:8080/"
        },
        "id": "q_Y6FC3Zw2KB",
        "outputId": "356fa9a5-3120-4feb-dc6c-91acc74fa46f"
      },
      "execution_count": null,
      "outputs": [
        {
          "output_type": "execute_result",
          "data": {
            "text/plain": [
              "[1000000]"
            ]
          },
          "metadata": {},
          "execution_count": 17
        }
      ]
    },
    {
      "cell_type": "code",
      "source": [
        "print(output)"
      ],
      "metadata": {
        "colab": {
          "base_uri": "https://localhost:8080/"
        },
        "id": "WcaO90qMw6iU",
        "outputId": "b7ffede1-564c-498a-d909-2936e0a0fbdb"
      },
      "execution_count": null,
      "outputs": [
        {
          "output_type": "stream",
          "name": "stdout",
          "text": [
            "[1000000]\n"
          ]
        }
      ]
    },
    {
      "cell_type": "code",
      "source": [
        "def tenth_power(number):\n",
        "  return number**10"
      ],
      "metadata": {
        "id": "uUHmKHNiAsiD"
      },
      "execution_count": null,
      "outputs": []
    },
    {
      "cell_type": "code",
      "source": [
        "out = [tenth_power(10)]"
      ],
      "metadata": {
        "id": "csngTaMaA3Tp"
      },
      "execution_count": null,
      "outputs": []
    },
    {
      "cell_type": "code",
      "source": [
        "out"
      ],
      "metadata": {
        "colab": {
          "base_uri": "https://localhost:8080/"
        },
        "id": "ZBp7remyA9kB",
        "outputId": "820a8c41-9220-4add-b54a-50b7112f86ca"
      },
      "execution_count": null,
      "outputs": [
        {
          "output_type": "execute_result",
          "data": {
            "text/plain": [
              "[10000000000]"
            ]
          },
          "metadata": {},
          "execution_count": 21
        }
      ]
    },
    {
      "cell_type": "code",
      "source": [
        "# here the out gives us list and below if we print it takes it as a value/string."
      ],
      "metadata": {
        "id": "GyWIhjMfxI_P"
      },
      "execution_count": null,
      "outputs": []
    },
    {
      "cell_type": "code",
      "source": [
        "print(tenth_power(1000))"
      ],
      "metadata": {
        "colab": {
          "base_uri": "https://localhost:8080/"
        },
        "id": "tnfXa-z3xCKe",
        "outputId": "ccd241b7-650f-4d47-a736-523b6cac6b33"
      },
      "execution_count": null,
      "outputs": [
        {
          "output_type": "stream",
          "name": "stdout",
          "text": [
            "1000000000000000000000000000000\n"
          ]
        }
      ]
    },
    {
      "cell_type": "code",
      "source": [
        "# adding a documentation string"
      ],
      "metadata": {
        "id": "tPrfpcPKA-nO"
      },
      "execution_count": null,
      "outputs": []
    },
    {
      "cell_type": "code",
      "source": [
        "def doc_string(example):\n",
        "  return example**5\n",
        "  \"\"\" This is a documentation string this does example value powered to 5 this is created for referencing \"\"\""
      ],
      "metadata": {
        "id": "qQSJMkuvCIC4"
      },
      "execution_count": null,
      "outputs": []
    },
    {
      "cell_type": "code",
      "source": [
        "output = [doc_string(9)]"
      ],
      "metadata": {
        "id": "3-zyLiWsCyjW"
      },
      "execution_count": null,
      "outputs": []
    },
    {
      "cell_type": "code",
      "source": [
        "output"
      ],
      "metadata": {
        "colab": {
          "base_uri": "https://localhost:8080/"
        },
        "id": "xHtp0ImTDN3P",
        "outputId": "ec7b7206-9350-422b-ce0b-d8e58d49a527"
      },
      "execution_count": null,
      "outputs": [
        {
          "output_type": "execute_result",
          "data": {
            "text/plain": [
              "[59049]"
            ]
          },
          "metadata": {},
          "execution_count": 27
        }
      ]
    },
    {
      "cell_type": "code",
      "source": [
        "# the doc string function doesnt work in google colab it works in jupyter notebook"
      ],
      "metadata": {
        "id": "48UQ_cOUDndy"
      },
      "execution_count": null,
      "outputs": []
    },
    {
      "cell_type": "markdown",
      "source": [
        "Map and filter Function"
      ],
      "metadata": {
        "id": "2rh6DxgdFs52"
      }
    },
    {
      "cell_type": "code",
      "source": [
        "# map function - map()"
      ],
      "metadata": {
        "id": "OES_DosFFSxA"
      },
      "execution_count": null,
      "outputs": []
    },
    {
      "cell_type": "code",
      "source": [
        "def times3(var):\n",
        "  return var*3"
      ],
      "metadata": {
        "id": "1BiGeU7cF4i9"
      },
      "execution_count": null,
      "outputs": []
    },
    {
      "cell_type": "code",
      "source": [
        "seq = [1,2,3,4,5]"
      ],
      "metadata": {
        "id": "FodyDIOQGYXS"
      },
      "execution_count": null,
      "outputs": []
    },
    {
      "cell_type": "code",
      "source": [
        "seq"
      ],
      "metadata": {
        "colab": {
          "base_uri": "https://localhost:8080/"
        },
        "id": "pqZW4wBLGcKY",
        "outputId": "4f399136-e445-41e6-d65b-50cbc6b58bcb"
      },
      "execution_count": null,
      "outputs": [
        {
          "output_type": "execute_result",
          "data": {
            "text/plain": [
              "[1, 2, 3, 4, 5]"
            ]
          },
          "metadata": {},
          "execution_count": 5
        }
      ]
    },
    {
      "cell_type": "code",
      "source": [
        "times3(seq)"
      ],
      "metadata": {
        "colab": {
          "base_uri": "https://localhost:8080/"
        },
        "id": "rBqUIKOZGhlf",
        "outputId": "a441a919-c8a3-407f-c80a-e33be2e153a6"
      },
      "execution_count": null,
      "outputs": [
        {
          "output_type": "execute_result",
          "data": {
            "text/plain": [
              "[1, 2, 3, 4, 5, 1, 2, 3, 4, 5, 1, 2, 3, 4, 5]"
            ]
          },
          "metadata": {},
          "execution_count": 6
        }
      ]
    },
    {
      "cell_type": "code",
      "source": [
        "for x in seq:\n",
        "  print(times3(x))"
      ],
      "metadata": {
        "colab": {
          "base_uri": "https://localhost:8080/"
        },
        "id": "fnDtNjDHxpdC",
        "outputId": "daeceb91-1f8b-463d-9e89-761834220e2d"
      },
      "execution_count": null,
      "outputs": [
        {
          "output_type": "stream",
          "name": "stdout",
          "text": [
            "3\n",
            "6\n",
            "9\n",
            "12\n",
            "15\n"
          ]
        }
      ]
    },
    {
      "cell_type": "code",
      "source": [
        "times3(100)"
      ],
      "metadata": {
        "colab": {
          "base_uri": "https://localhost:8080/"
        },
        "id": "7uYKHQIBGlun",
        "outputId": "c246b87f-206c-4911-ed1f-b4a302d1f676"
      },
      "execution_count": null,
      "outputs": [
        {
          "output_type": "execute_result",
          "data": {
            "text/plain": [
              "300"
            ]
          },
          "metadata": {},
          "execution_count": 8
        }
      ]
    },
    {
      "cell_type": "code",
      "source": [
        "se = [1,2,3,4,5,6,7]"
      ],
      "metadata": {
        "id": "i7ZyZwvyzMrQ"
      },
      "execution_count": null,
      "outputs": []
    },
    {
      "cell_type": "code",
      "source": [
        "se"
      ],
      "metadata": {
        "colab": {
          "base_uri": "https://localhost:8080/"
        },
        "id": "ZzTpR7-r06Xy",
        "outputId": "26438aa7-92a3-447b-cc6d-615ca8102307"
      },
      "execution_count": null,
      "outputs": [
        {
          "output_type": "execute_result",
          "data": {
            "text/plain": [
              "[1, 2, 3, 4, 5, 6, 7]"
            ]
          },
          "metadata": {},
          "execution_count": 10
        }
      ]
    },
    {
      "cell_type": "code",
      "source": [
        "def times2(var):\n",
        "  return var*2"
      ],
      "metadata": {
        "id": "B3l0QvHcz7DJ"
      },
      "execution_count": null,
      "outputs": []
    },
    {
      "cell_type": "code",
      "source": [
        "map(times2,se)"
      ],
      "metadata": {
        "colab": {
          "base_uri": "https://localhost:8080/"
        },
        "id": "ihZ9YBqfLTyh",
        "outputId": "6dc10959-099a-4fef-c494-948904e9dbc9"
      },
      "execution_count": null,
      "outputs": [
        {
          "output_type": "execute_result",
          "data": {
            "text/plain": [
              "<map at 0x7f33be367f50>"
            ]
          },
          "metadata": {},
          "execution_count": 12
        }
      ]
    },
    {
      "cell_type": "code",
      "source": [
        "list(map(times2,se))"
      ],
      "metadata": {
        "colab": {
          "base_uri": "https://localhost:8080/"
        },
        "id": "JEJG1EEvLX69",
        "outputId": "842c719e-1be1-4b53-eb0c-2f336530cccd"
      },
      "execution_count": null,
      "outputs": [
        {
          "output_type": "execute_result",
          "data": {
            "text/plain": [
              "[2, 4, 6, 8, 10, 12, 14]"
            ]
          },
          "metadata": {},
          "execution_count": 13
        }
      ]
    },
    {
      "cell_type": "code",
      "source": [
        "# Lambda expression to reduce codes"
      ],
      "metadata": {
        "id": "tDDGI-GoG28I"
      },
      "execution_count": null,
      "outputs": []
    },
    {
      "cell_type": "code",
      "source": [
        "# putting lambda expression in map function"
      ],
      "metadata": {
        "id": "ewO2QXQKHn1G"
      },
      "execution_count": null,
      "outputs": []
    },
    {
      "cell_type": "code",
      "source": [
        "# filter function"
      ],
      "metadata": {
        "id": "Rj3Xf4e_H6Ae"
      },
      "execution_count": null,
      "outputs": []
    },
    {
      "cell_type": "code",
      "source": [],
      "metadata": {
        "id": "p_Y0a13xJxrm"
      },
      "execution_count": null,
      "outputs": []
    },
    {
      "cell_type": "markdown",
      "source": [
        "Methods"
      ],
      "metadata": {
        "id": "C7u1HmwGLk9D"
      }
    },
    {
      "cell_type": "code",
      "source": [
        "string = 'Hello, this is the worst generation'"
      ],
      "metadata": {
        "id": "Tx1mE5XNLmIE"
      },
      "execution_count": null,
      "outputs": []
    },
    {
      "cell_type": "code",
      "source": [
        "string.lower()"
      ],
      "metadata": {
        "id": "-h9pNdzULuXh",
        "colab": {
          "base_uri": "https://localhost:8080/",
          "height": 35
        },
        "outputId": "533ee71f-e2ff-4d28-ccc6-3631fd416478"
      },
      "execution_count": null,
      "outputs": [
        {
          "output_type": "execute_result",
          "data": {
            "text/plain": [
              "'hello, this is the worst generation'"
            ],
            "application/vnd.google.colaboratory.intrinsic+json": {
              "type": "string"
            }
          },
          "metadata": {},
          "execution_count": 18
        }
      ]
    },
    {
      "cell_type": "code",
      "source": [
        "string.upper()"
      ],
      "metadata": {
        "id": "aBJp8hJ6L_V-",
        "colab": {
          "base_uri": "https://localhost:8080/",
          "height": 35
        },
        "outputId": "45a8deb8-c53d-4c5f-b133-e8588ba422be"
      },
      "execution_count": null,
      "outputs": [
        {
          "output_type": "execute_result",
          "data": {
            "text/plain": [
              "'HELLO, THIS IS THE WORST GENERATION'"
            ],
            "application/vnd.google.colaboratory.intrinsic+json": {
              "type": "string"
            }
          },
          "metadata": {},
          "execution_count": 19
        }
      ]
    },
    {
      "cell_type": "code",
      "source": [
        "string.split()"
      ],
      "metadata": {
        "id": "woZ6MlLZMD8g",
        "colab": {
          "base_uri": "https://localhost:8080/"
        },
        "outputId": "04e5a6e3-becc-404d-dea0-64fa9526f268"
      },
      "execution_count": null,
      "outputs": [
        {
          "output_type": "execute_result",
          "data": {
            "text/plain": [
              "['Hello,', 'this', 'is', 'the', 'worst', 'generation']"
            ]
          },
          "metadata": {},
          "execution_count": 20
        }
      ]
    },
    {
      "cell_type": "code",
      "source": [
        "tweet = 'Go Anime! we are with you. #Anime'"
      ],
      "metadata": {
        "id": "DnlZ7ZUeMF4O"
      },
      "execution_count": null,
      "outputs": []
    },
    {
      "cell_type": "code",
      "source": [
        "tweet.split('#')"
      ],
      "metadata": {
        "id": "jgBlZEdANFVi",
        "colab": {
          "base_uri": "https://localhost:8080/"
        },
        "outputId": "0d95fa4a-abea-4f19-9a76-60a5454b6e0a"
      },
      "execution_count": null,
      "outputs": [
        {
          "output_type": "execute_result",
          "data": {
            "text/plain": [
              "['Go Anime! we are with you. ', 'Anime']"
            ]
          },
          "metadata": {},
          "execution_count": 22
        }
      ]
    },
    {
      "cell_type": "code",
      "source": [
        "tweet.split('#')[1]"
      ],
      "metadata": {
        "id": "KngpWcxhNT_j",
        "colab": {
          "base_uri": "https://localhost:8080/",
          "height": 35
        },
        "outputId": "c3fd26c5-0bb2-4f3b-c81e-7336dc18327a"
      },
      "execution_count": null,
      "outputs": [
        {
          "output_type": "execute_result",
          "data": {
            "text/plain": [
              "'Anime'"
            ],
            "application/vnd.google.colaboratory.intrinsic+json": {
              "type": "string"
            }
          },
          "metadata": {},
          "execution_count": 23
        }
      ]
    },
    {
      "cell_type": "code",
      "source": [
        "dic = {'k1':1, 'k2': 2}"
      ],
      "metadata": {
        "id": "mUXBu1b1NzN_"
      },
      "execution_count": null,
      "outputs": []
    },
    {
      "cell_type": "code",
      "source": [
        "dic.keys()"
      ],
      "metadata": {
        "id": "AQTA_xmcN8SK",
        "colab": {
          "base_uri": "https://localhost:8080/"
        },
        "outputId": "991bf33d-71dd-4e3b-c7d0-525d2a8a75a7"
      },
      "execution_count": null,
      "outputs": [
        {
          "output_type": "execute_result",
          "data": {
            "text/plain": [
              "dict_keys(['k1', 'k2'])"
            ]
          },
          "metadata": {},
          "execution_count": 25
        }
      ]
    },
    {
      "cell_type": "code",
      "source": [
        "dic.items()"
      ],
      "metadata": {
        "id": "IgpXiQPhN-2j",
        "colab": {
          "base_uri": "https://localhost:8080/"
        },
        "outputId": "8ceef8d0-5519-4924-8750-55bb4a1022bd"
      },
      "execution_count": null,
      "outputs": [
        {
          "output_type": "execute_result",
          "data": {
            "text/plain": [
              "dict_items([('k1', 1), ('k2', 2)])"
            ]
          },
          "metadata": {},
          "execution_count": 26
        }
      ]
    },
    {
      "cell_type": "code",
      "source": [
        "dic.values()"
      ],
      "metadata": {
        "id": "lHti9MwOOC1B",
        "colab": {
          "base_uri": "https://localhost:8080/"
        },
        "outputId": "fedd4a52-5d3c-4010-e74d-825e850bb2ba"
      },
      "execution_count": null,
      "outputs": [
        {
          "output_type": "execute_result",
          "data": {
            "text/plain": [
              "dict_values([1, 2])"
            ]
          },
          "metadata": {},
          "execution_count": 27
        }
      ]
    },
    {
      "cell_type": "code",
      "source": [
        "list = [1,2,3,4,5]"
      ],
      "metadata": {
        "id": "LVkv9ROwOcYo"
      },
      "execution_count": null,
      "outputs": []
    },
    {
      "cell_type": "code",
      "source": [
        "list.pop()"
      ],
      "metadata": {
        "id": "RtAKZLF2O3Wy",
        "colab": {
          "base_uri": "https://localhost:8080/"
        },
        "outputId": "e274b07b-3a6b-4670-c7e3-9d951efc3af0"
      },
      "execution_count": null,
      "outputs": [
        {
          "output_type": "execute_result",
          "data": {
            "text/plain": [
              "5"
            ]
          },
          "metadata": {},
          "execution_count": 29
        }
      ]
    },
    {
      "cell_type": "code",
      "source": [
        "list"
      ],
      "metadata": {
        "id": "DKwociF4PE2B",
        "colab": {
          "base_uri": "https://localhost:8080/"
        },
        "outputId": "5262b0c7-6ee2-42e6-bc14-d1dd2166419b"
      },
      "execution_count": null,
      "outputs": [
        {
          "output_type": "execute_result",
          "data": {
            "text/plain": [
              "[1, 2, 3, 4]"
            ]
          },
          "metadata": {},
          "execution_count": 30
        }
      ]
    },
    {
      "cell_type": "code",
      "source": [
        "newlist = [1,2,3,4,5,6]"
      ],
      "metadata": {
        "id": "hGlDN_OPPHqV"
      },
      "execution_count": null,
      "outputs": []
    },
    {
      "cell_type": "code",
      "source": [
        "number = newlist.pop()"
      ],
      "metadata": {
        "id": "s-EZg9abPNrd"
      },
      "execution_count": null,
      "outputs": []
    },
    {
      "cell_type": "code",
      "source": [
        "number"
      ],
      "metadata": {
        "id": "fc5pJSUqPT5X",
        "colab": {
          "base_uri": "https://localhost:8080/"
        },
        "outputId": "8b72c2f2-9332-4ed8-e801-3200e350cd1c"
      },
      "execution_count": null,
      "outputs": [
        {
          "output_type": "execute_result",
          "data": {
            "text/plain": [
              "6"
            ]
          },
          "metadata": {},
          "execution_count": 33
        }
      ]
    },
    {
      "cell_type": "code",
      "source": [
        "num = newlist.pop(0)"
      ],
      "metadata": {
        "id": "ncAOo9O4PVTB"
      },
      "execution_count": null,
      "outputs": []
    },
    {
      "cell_type": "code",
      "source": [
        "num"
      ],
      "metadata": {
        "id": "Yyys9DxuPbXQ",
        "colab": {
          "base_uri": "https://localhost:8080/"
        },
        "outputId": "0d111c80-fbb3-475a-b235-1e2815c254a9"
      },
      "execution_count": null,
      "outputs": [
        {
          "output_type": "execute_result",
          "data": {
            "text/plain": [
              "1"
            ]
          },
          "metadata": {},
          "execution_count": 35
        }
      ]
    },
    {
      "cell_type": "code",
      "source": [
        "newlist"
      ],
      "metadata": {
        "id": "JU_ZCY5uPdGs",
        "colab": {
          "base_uri": "https://localhost:8080/"
        },
        "outputId": "a2328771-96c8-4847-ce66-c3abe57f9e85"
      },
      "execution_count": null,
      "outputs": [
        {
          "output_type": "execute_result",
          "data": {
            "text/plain": [
              "[2, 3, 4, 5]"
            ]
          },
          "metadata": {},
          "execution_count": 36
        }
      ]
    },
    {
      "cell_type": "code",
      "source": [
        "newlist.append('nice going')"
      ],
      "metadata": {
        "id": "yOqy4CPtPh8C"
      },
      "execution_count": null,
      "outputs": []
    },
    {
      "cell_type": "code",
      "source": [
        "newlist"
      ],
      "metadata": {
        "id": "l6FfsCA-Pnij",
        "colab": {
          "base_uri": "https://localhost:8080/"
        },
        "outputId": "9baa70df-98fa-4dc1-a7ac-69390f71bf99"
      },
      "execution_count": null,
      "outputs": [
        {
          "output_type": "execute_result",
          "data": {
            "text/plain": [
              "[2, 3, 4, 5, 'nice going']"
            ]
          },
          "metadata": {},
          "execution_count": 38
        }
      ]
    },
    {
      "cell_type": "markdown",
      "source": [
        "IN Operator"
      ],
      "metadata": {
        "id": "YmpGK-ePP2ZV"
      }
    },
    {
      "cell_type": "code",
      "source": [
        "'x' in [1,2,3,4]"
      ],
      "metadata": {
        "id": "eYmEcWehP3_p",
        "colab": {
          "base_uri": "https://localhost:8080/"
        },
        "outputId": "a7186df6-6d8c-4a1f-f89f-51ff4eea1b51"
      },
      "execution_count": null,
      "outputs": [
        {
          "output_type": "execute_result",
          "data": {
            "text/plain": [
              "False"
            ]
          },
          "metadata": {},
          "execution_count": 39
        }
      ]
    },
    {
      "cell_type": "code",
      "source": [
        "'x' in ['x','y','z']"
      ],
      "metadata": {
        "id": "d-5RuYeCP9LB",
        "colab": {
          "base_uri": "https://localhost:8080/"
        },
        "outputId": "7634024e-5738-42e5-f5a2-d7ccdd462b21"
      },
      "execution_count": null,
      "outputs": [
        {
          "output_type": "execute_result",
          "data": {
            "text/plain": [
              "True"
            ]
          },
          "metadata": {},
          "execution_count": 40
        }
      ]
    },
    {
      "cell_type": "markdown",
      "source": [
        "Tuple Unpacking"
      ],
      "metadata": {
        "id": "fONRDZyRQWuE"
      }
    },
    {
      "cell_type": "code",
      "source": [
        "x = [(1,2),(3,4),(5,6)]"
      ],
      "metadata": {
        "id": "_ZiIeN-5QDAt"
      },
      "execution_count": null,
      "outputs": []
    },
    {
      "cell_type": "code",
      "source": [
        "x[0]"
      ],
      "metadata": {
        "id": "gNY5BIe3QgA8",
        "colab": {
          "base_uri": "https://localhost:8080/"
        },
        "outputId": "62c4171c-b3a7-4513-f1e9-21493f83e8ae"
      },
      "execution_count": null,
      "outputs": [
        {
          "output_type": "execute_result",
          "data": {
            "text/plain": [
              "(1, 2)"
            ]
          },
          "metadata": {},
          "execution_count": 42
        }
      ]
    },
    {
      "cell_type": "code",
      "source": [
        "x[0][1]"
      ],
      "metadata": {
        "id": "PNRfpI7mQn5T",
        "colab": {
          "base_uri": "https://localhost:8080/"
        },
        "outputId": "c0ad6143-4ef5-4164-f4ea-5b152accbeba"
      },
      "execution_count": null,
      "outputs": [
        {
          "output_type": "execute_result",
          "data": {
            "text/plain": [
              "2"
            ]
          },
          "metadata": {},
          "execution_count": 43
        }
      ]
    },
    {
      "cell_type": "code",
      "source": [
        "for num in x:\n",
        "  print(num)"
      ],
      "metadata": {
        "id": "row2oad5QrEt",
        "colab": {
          "base_uri": "https://localhost:8080/"
        },
        "outputId": "fc710fb6-5fe3-4f69-a6a9-954cd034240c"
      },
      "execution_count": null,
      "outputs": [
        {
          "output_type": "stream",
          "name": "stdout",
          "text": [
            "(1, 2)\n",
            "(3, 4)\n",
            "(5, 6)\n"
          ]
        }
      ]
    },
    {
      "cell_type": "code",
      "source": [
        "#now comes tuple unpacking"
      ],
      "metadata": {
        "id": "Ki1aZ1JpQxdi"
      },
      "execution_count": null,
      "outputs": []
    },
    {
      "cell_type": "code",
      "source": [
        "for (a,b) in x:\n",
        "  print(a)"
      ],
      "metadata": {
        "id": "_HVE4U8OQ4Dm",
        "colab": {
          "base_uri": "https://localhost:8080/"
        },
        "outputId": "e2549f1f-c01a-4117-e350-bfdd392c6fa8"
      },
      "execution_count": null,
      "outputs": [
        {
          "output_type": "stream",
          "name": "stdout",
          "text": [
            "1\n",
            "3\n",
            "5\n"
          ]
        }
      ]
    },
    {
      "cell_type": "code",
      "source": [
        "for (a,b) in x:\n",
        "  print(b)"
      ],
      "metadata": {
        "id": "h4Tp7GeGQ_wY",
        "colab": {
          "base_uri": "https://localhost:8080/"
        },
        "outputId": "465005bd-150e-4ced-f8fb-a1e40f1098a4"
      },
      "execution_count": null,
      "outputs": [
        {
          "output_type": "stream",
          "name": "stdout",
          "text": [
            "2\n",
            "4\n",
            "6\n"
          ]
        }
      ]
    },
    {
      "cell_type": "code",
      "source": [
        "#the parenthese is not required"
      ],
      "metadata": {
        "id": "Qt-0V94HREJR"
      },
      "execution_count": null,
      "outputs": []
    },
    {
      "cell_type": "code",
      "source": [
        "for a,b in x:\n",
        "  print(a)\n",
        "  print(b)"
      ],
      "metadata": {
        "id": "q5HU-Y3lRQLd",
        "colab": {
          "base_uri": "https://localhost:8080/"
        },
        "outputId": "cf163f84-53bb-41e8-9e32-9e88e00be40a"
      },
      "execution_count": null,
      "outputs": [
        {
          "output_type": "stream",
          "name": "stdout",
          "text": [
            "1\n",
            "2\n",
            "3\n",
            "4\n",
            "5\n",
            "6\n"
          ]
        }
      ]
    },
    {
      "cell_type": "code",
      "source": [],
      "metadata": {
        "id": "h54n1NexRVD7"
      },
      "execution_count": null,
      "outputs": []
    }
  ]
}